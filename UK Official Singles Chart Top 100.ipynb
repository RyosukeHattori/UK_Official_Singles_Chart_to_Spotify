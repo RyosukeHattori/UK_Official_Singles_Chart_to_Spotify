{
 "cells": [
  {
   "cell_type": "code",
   "execution_count": 1,
   "metadata": {},
   "outputs": [],
   "source": [
    "import urllib.request, urllib.error\n",
    "import requests\n",
    "from bs4 import BeautifulSoup\n",
    "from fake_headers import Headers\n",
    "import time\n",
    "import pandas as pd\n",
    "import os\n",
    "import re"
   ]
  },
  {
   "cell_type": "code",
   "execution_count": 2,
   "metadata": {},
   "outputs": [],
   "source": [
    "import spotipy\n",
    "from spotipy.oauth2 import SpotifyClientCredentials\n",
    "import spotipy.util as util\n",
    "\n",
    "with open(\"your_ID.txt\") as f:\n",
    "    l = f.readlines()\n",
    "\n",
    "client_id=l[0].strip()\n",
    "client_secret = l[1].strip()\n",
    "username = l[2].strip()\n",
    "\n",
    "token = util.prompt_for_user_token(username=username, scope='user-read-playback-state,playlist-read-private,user-modify-playback-state,playlist-modify-public', \n",
    "                                   client_id = client_id,client_secret = client_secret,redirect_uri=\"http://localhost:8889/callback\")\n",
    "\n",
    "sp = spotipy.Spotify(auth=token)"
   ]
  },
  {
   "cell_type": "code",
   "execution_count": 3,
   "metadata": {},
   "outputs": [
    {
     "name": "stdout",
     "output_type": "stream",
     "text": [
      "client_id:55e915e6dc2549b29feb68ef4e611e2a\n",
      "client_secret:086669968e7e4892bc08c8d39308afaf\n",
      "username:21ulbu67tca2mhvh2jiy3g4da\n"
     ]
    }
   ],
   "source": [
    "print(\"client_id:%s\" %client_id)\n",
    "print(\"client_secret:%s\" %client_secret)\n",
    "print(\"username:%s\" %username)"
   ]
  },
  {
   "cell_type": "code",
   "execution_count": 4,
   "metadata": {},
   "outputs": [],
   "source": [
    "def get_soup(url):\n",
    "    \"\"\"\"Retrieve html and return a bs4-object.\"\"\"\n",
    "    response = requests.get(url, headers=Headers().generate())\n",
    "    soup = BeautifulSoup(response.text, \"html.parser\")\n",
    "    if \"Error 403\" in soup.title.text:\n",
    "        del soup\n",
    "        raise Exception(\"Error 403: Captcha? https://www.1001tracklists.com/\")\n",
    "    else:\n",
    "        return soup"
   ]
  },
  {
   "cell_type": "code",
   "execution_count": 5,
   "metadata": {},
   "outputs": [],
   "source": [
    "url = \"https://www.officialcharts.com/charts/singles-chart/\" "
   ]
  },
  {
   "cell_type": "code",
   "execution_count": 6,
   "metadata": {},
   "outputs": [],
   "source": [
    "soup = get_soup(url)"
   ]
  },
  {
   "cell_type": "code",
   "execution_count": 7,
   "metadata": {},
   "outputs": [],
   "source": [
    "date = soup.find('p', class_=\"article-date\")\n",
    "date = list(date)[0]\n",
    "date = date.strip('\\r\\n').strip()\n",
    "playlist_name = \"UK Official Singles Chart Top 100 (%s)\" %date"
   ]
  },
  {
   "cell_type": "code",
   "execution_count": 8,
   "metadata": {},
   "outputs": [],
   "source": [
    "columns=[\"track_url\", \"track_name\", \"track_artist_url\", \"track_artist_name\"]\n",
    "df = pd.DataFrame(index=[], columns=columns)"
   ]
  },
  {
   "cell_type": "code",
   "execution_count": 9,
   "metadata": {},
   "outputs": [],
   "source": [
    "track = soup.find_all('div', class_=\"title-artist\")[0]"
   ]
  },
  {
   "cell_type": "code",
   "execution_count": 10,
   "metadata": {},
   "outputs": [],
   "source": [
    "i = 0\n",
    "for track in soup.find_all('div', class_=\"title-artist\"):\n",
    "    text = track.find_all(\"a\")\n",
    "    track_url = text[0].get(\"href\")\n",
    "    track_name = list(text[0])[0]\n",
    "    track_artist_url = text[1].get(\"href\")\n",
    "    track_artist_name = list(text[1])[0]\n",
    "    df.loc[i,\"track_url\"] = track_url\n",
    "    df.loc[i,\"track_name\"] = track_name\n",
    "    df.loc[i,\"track_artist_url\"] = track_artist_url\n",
    "    df.loc[i,\"track_artist_name\"] = track_artist_name\n",
    "    i = i +1"
   ]
  },
  {
   "cell_type": "code",
   "execution_count": 11,
   "metadata": {},
   "outputs": [],
   "source": [
    "track_name,artist_name  = df.loc[0,[\"track_name\",\"track_artist_name\"]]"
   ]
  },
  {
   "cell_type": "code",
   "execution_count": 12,
   "metadata": {},
   "outputs": [],
   "source": [
    "def get_id_track_artist_2(track_name,artist_name):\n",
    "    \n",
    "    id_list = []\n",
    "    name_list = []\n",
    "    artists = []\n",
    "    result = sp.search(q='track:'+track_name, limit=10, offset=0, type='track', market=None)\n",
    "    for track in result['tracks']['items']:\n",
    "        if track[\"artists\"][0]['name'].lower() == artist_name.lower():\n",
    "            id_list.append(track['id'])\n",
    "            name_list.append(track[\"name\"])\n",
    "            artists.append(track[\"artists\"][0]['name'])\n",
    "\n",
    "    l = pd.DataFrame({'id': id_list ,'track': name_list, \"artist\" : artists})\n",
    "\n",
    "    if len(l) ==0:\n",
    "        for track in result['tracks']['items']:\n",
    "            if (track[\"artists\"][0]['name'].lower() in artist_name.lower()) or (artist_name.lower() in track[\"artists\"][0]['name'].lower()):\n",
    "                id_list.append(track['id'])\n",
    "                name_list.append(track[\"name\"])\n",
    "                artists.append(track[\"artists\"][0]['name'])\n",
    "\n",
    "    l = pd.DataFrame({'id': id_list ,'track': name_list, \"artist\" : artists})\n",
    "\n",
    "    return l"
   ]
  },
  {
   "cell_type": "code",
   "execution_count": 13,
   "metadata": {},
   "outputs": [],
   "source": [
    "def get_id_track_artist(track_name,artist_name):\n",
    "    id_list = []\n",
    "    name_list = []\n",
    "    artists = []\n",
    "    result = sp.search(q='artist:'+artist_name.split(\"/\")[0], limit=10, offset=0, type='track', market=None)\n",
    "    for track in result['tracks']['items']:\n",
    "        #print(track['name'].lower())\n",
    "        if track['name'].lower() == track_name.lower():\n",
    "            id_list.append(track['id'])\n",
    "            name_list.append(track[\"name\"])\n",
    "            artists.append(track[\"artists\"][0]['name'])\n",
    "\n",
    "    l = pd.DataFrame({'id': id_list ,'track': name_list, \"artist\" : artists})\n",
    "\n",
    "    if len(l) ==0:\n",
    "        for track in result['tracks']['items']:\n",
    "            if (track['name'].lower() in artist_name.lower()) or (artist_name.lower() in track['name'].lower()):\n",
    "                id_list.append(track['id'])\n",
    "                name_list.append(track[\"name\"])\n",
    "                artists.append(track[\"artists\"][0]['name'])\n",
    "\n",
    "    l = pd.DataFrame({'id': id_list ,'track': name_list, \"artist\" : artists})\n",
    "    \n",
    "    if len(l) ==0:\n",
    "        l = get_id_track_artist_2(track_name,artist_name)\n",
    "        \n",
    "    if len(l) ==0:\n",
    "        l = pd.DataFrame({\"id\":[\"None\"], \"track\":[\"None\"],\"artist\":[\"None\"]})\n",
    "        print(\"this track is None:%s/%s\" %(track_name,artist_name))\n",
    "    return l.iloc[0,:]\n"
   ]
  },
  {
   "cell_type": "code",
   "execution_count": 14,
   "metadata": {},
   "outputs": [
    {
     "name": "stdout",
     "output_type": "stream",
     "text": [
      "this track is None:READY/FREDO FT SUMMER WALKER\n",
      "this track is None:FRIDAY/RITON/NIGHTCRAWLERS/MUFASA\n",
      "this track is None:LOVE NOT WAR (THE TAMPA BEAT)/JASON DERULO & NUKA\n",
      "this track is None:BE THE ONE/RUDIMENTAL/MORGAN/DIGGA D/TIKE\n",
      "this track is None:FOREVER YOUNG/BECKY HILL\n"
     ]
    }
   ],
   "source": [
    "cols = ['id', 'track',\"artist\"]\n",
    "play_list_df = pd.DataFrame(index=[], columns=cols)\n",
    "for i in range(len(df)):\n",
    "    track_name,artist_name  = df.loc[i,[\"track_name\",\"track_artist_name\"]]\n",
    "    l = get_id_track_artist(track_name,artist_name)\n",
    "    play_list_df = play_list_df.append(pd.DataFrame(l).T, ignore_index=True )"
   ]
  },
  {
   "cell_type": "code",
   "execution_count": 15,
   "metadata": {},
   "outputs": [
    {
     "name": "stdout",
     "output_type": "stream",
     "text": [
      "      id track artist\n",
      "20  None  None   None\n",
      "23  None  None   None\n",
      "31  None  None   None\n",
      "57  None  None   None\n",
      "84  None  None   None\n"
     ]
    }
   ],
   "source": [
    "#rank of None tracks\n",
    "print(play_list_df[play_list_df[\"id\"] == \"None\"])"
   ]
  },
  {
   "cell_type": "code",
   "execution_count": 16,
   "metadata": {},
   "outputs": [],
   "source": [
    "play_list_df = play_list_df[play_list_df[\"id\"] != \"None\"]"
   ]
  },
  {
   "cell_type": "code",
   "execution_count": 17,
   "metadata": {},
   "outputs": [
    {
     "data": {
      "text/plain": [
       "{'snapshot_id': 'MywyMjIzODFlNTFlZGYzMDkxNmQ4YzUwYTE4OGIzY2YyMTNmYTJjZDc1'}"
      ]
     },
     "execution_count": 17,
     "metadata": {},
     "output_type": "execute_result"
    }
   ],
   "source": [
    "playlists = sp.user_playlist_create(username, playlist_name, public=True, collaborative=False, description=\"This playlists corespond to Official Singles Chart Top 100\")\n",
    "\n",
    "playlists = sp.current_user_playlists()\n",
    "for i, item in enumerate(playlists['items']):\n",
    "    if item['name'] == playlist_name:\n",
    "        playlist_id = item['id']\n",
    "\n",
    "track_ids = play_list_df[\"id\"]\n",
    "sp.user_playlist_add_tracks(username, playlist_id, track_ids)"
   ]
  }
 ],
 "metadata": {
  "kernelspec": {
   "display_name": "Python 3",
   "language": "python",
   "name": "python3"
  },
  "language_info": {
   "codemirror_mode": {
    "name": "ipython",
    "version": 3
   },
   "file_extension": ".py",
   "mimetype": "text/x-python",
   "name": "python",
   "nbconvert_exporter": "python",
   "pygments_lexer": "ipython3",
   "version": "3.8.5"
  }
 },
 "nbformat": 4,
 "nbformat_minor": 4
}
